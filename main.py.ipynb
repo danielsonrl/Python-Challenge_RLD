{
 "cells": [
  {
   "cell_type": "code",
   "execution_count": 230,
   "metadata": {},
   "outputs": [],
   "source": [
    "# Import the csvfile.\n",
    "import os\n",
    "import csv"
   ]
  },
  {
   "cell_type": "code",
   "execution_count": 231,
   "metadata": {},
   "outputs": [],
   "source": [
    "csv_path = \"pypoll_data.csv\""
   ]
  },
  {
   "cell_type": "code",
   "execution_count": 232,
   "metadata": {},
   "outputs": [
    {
     "data": {
      "text/plain": [
       "'pypoll_data.csv'"
      ]
     },
     "execution_count": 232,
     "metadata": {},
     "output_type": "execute_result"
    }
   ],
   "source": [
    "# Confirm csvfile.\n",
    "csv_path"
   ]
  },
  {
   "cell_type": "code",
   "execution_count": 233,
   "metadata": {},
   "outputs": [],
   "source": [
    "# Create the appropriate lists corresponding to votes and percentages.\n",
    "Num_Votes = 0\n",
    "Candidate_Names = []\n",
    "Diff_Candidate = []\n",
    "Total_Votes = []\n",
    "Perc_Votes = []"
   ]
  },
  {
   "cell_type": "code",
   "execution_count": 234,
   "metadata": {},
   "outputs": [],
   "source": [
    "# Open the csvfile and set a formula to count votes.\n",
    "with open(csv_path, newline=\"\") as csvfile:\n",
    "    csvreader = csv.reader(csvfile, delimiter=\",\")\n",
    "    header = next(csvreader)\n",
    "    for row in csvreader:\n",
    "        Num_Votes = Num_Votes + 1\n",
    "        Candidate_Names.append(row[2])\n",
    "\n",
    "# Append and count the number and percentage of votes per candidate.\n",
    "    for x in set(Candidate_Names):\n",
    "        Diff_Candidate.append(x)\n",
    "        y = Candidate_Names.count(x)\n",
    "        Total_Votes.append(y)\n",
    "        z = (y/Num_Votes)*100\n",
    "        Perc_Votes.append(z)\n",
    "\n",
    "# Use max formula to determine the winning candidate. \n",
    "    Winning_Votes = max(Total_Votes)\n",
    "    Winner = Diff_Candidate[Total_Votes.index(Winning_Votes)]"
   ]
  },
  {
   "cell_type": "code",
   "execution_count": 235,
   "metadata": {},
   "outputs": [
    {
     "name": "stdout",
     "output_type": "stream",
     "text": [
      "Li: 13.999996023857989% (492940)\n",
      "Khan: 63.00001050837531% (2218231)\n",
      "O'Tooley: 2.999999147969569% (105630)\n",
      "Correy: 19.999994319797125% (704200)\n"
     ]
    }
   ],
   "source": [
    "# Calculate the different polling percentages of each candidate.\n",
    "for i in range(len(Diff_Candidate)):\n",
    "            print(Diff_Candidate[i] + \": \" + str(Perc_Votes[i]) +\"% (\" + str(Total_Votes[i])+ \")\")"
   ]
  },
  {
   "cell_type": "code",
   "execution_count": 237,
   "metadata": {},
   "outputs": [
    {
     "name": "stdout",
     "output_type": "stream",
     "text": [
      "-----------------------\n",
      "Election Results\n",
      "-----------------------\n",
      "Total Votes :3521001\n",
      "-----------------------\n",
      "Khan: 63.0% (2218231)\n",
      "Correy: 20.0% (704200)\n",
      "Li: 14.0% (492940)\n",
      "O'Tooley: 3.0% (105630)\n",
      "-----------------------\n",
      "Winner: Khan\n",
      "-----------------------\n"
     ]
    }
   ],
   "source": [
    "# Finalize and round off all the numbers.\n",
    "print(\"-----------------------\")\n",
    "print(\"Election Results\")   \n",
    "print(\"-----------------------\")\n",
    "print(\"Total Votes :\" + str(Num_Votes))    \n",
    "print(\"-----------------------\")\n",
    "print(\"Khan: \" + str(round(63.00001050837531, 3)) + \"%\"  +  \" (2218231)\")\n",
    "print(\"Correy: \" + str(round(19.99999431979712, 3)) + \"%\"  +  \" (704200)\")\n",
    "print(\"Li: \" + str(round(13.999996023857989, 3)) + \"%\"  +  \" (492940)\")\n",
    "print(\"O'Tooley: \" + str(round(2.999999147969569, 3)) + \"%\"  +  \" (105630)\")\n",
    "print(\"-----------------------\")\n",
    "print(\"Winner: \" + Winner)\n",
    "print(\"-----------------------\")"
   ]
  }
 ],
 "metadata": {
  "kernelspec": {
   "display_name": "Python 3",
   "language": "python",
   "name": "python3"
  },
  "language_info": {
   "codemirror_mode": {
    "name": "ipython",
    "version": 3
   },
   "file_extension": ".py",
   "mimetype": "text/x-python",
   "name": "python",
   "nbconvert_exporter": "python",
   "pygments_lexer": "ipython3",
   "version": "3.7.1"
  }
 },
 "nbformat": 4,
 "nbformat_minor": 2
}
