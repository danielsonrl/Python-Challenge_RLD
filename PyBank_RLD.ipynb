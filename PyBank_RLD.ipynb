{
 "cells": [
  {
   "cell_type": "code",
   "execution_count": 80,
   "metadata": {},
   "outputs": [],
   "source": [
    "# Import and name csvfile.\n",
    "import csv"
   ]
  },
  {
   "cell_type": "code",
   "execution_count": 81,
   "metadata": {},
   "outputs": [],
   "source": [
    "csv_path = \"budget_data.csv\""
   ]
  },
  {
   "cell_type": "code",
   "execution_count": 93,
   "metadata": {},
   "outputs": [
    {
     "data": {
      "text/plain": [
       "'budget_data.csv'"
      ]
     },
     "execution_count": 93,
     "metadata": {},
     "output_type": "execute_result"
    }
   ],
   "source": [
    "# Confirm csvfile is uploaded.\n",
    "csv_path"
   ]
  },
  {
   "cell_type": "code",
   "execution_count": 94,
   "metadata": {},
   "outputs": [],
   "source": [
    "# Make a list of the date and the profit/losses.\n",
    "Date = [] \n",
    "Profit_Losses = []"
   ]
  },
  {
   "cell_type": "code",
   "execution_count": 95,
   "metadata": {},
   "outputs": [],
   "source": [
    "for i in range(2):\n",
    "    Date, Profit_Losses"
   ]
  },
  {
   "cell_type": "code",
   "execution_count": 119,
   "metadata": {},
   "outputs": [
    {
     "name": "stdout",
     "output_type": "stream",
     "text": [
      "Total Rows is 86\n",
      "Total Profit/Losses is $38382578.0\n"
     ]
    }
   ],
   "source": [
    "# Open csvfile and append the total number of rows and total amount.\n",
    "with open(csv_path, newline=\"\") as f:\n",
    "    next(f)\n",
    "    Total_Rows = 0\n",
    "    total = 0\n",
    "    csvreader = csv.reader(f)\n",
    "    for row in csvreader:\n",
    "        Date.append(row[0])\n",
    "        Profit_Losses.append(row[1])\n",
    "        Total_Rows += 1\n",
    "        total += float(row[1])\n",
    "    print(\"Total Rows is \" + str(Total_Rows))\n",
    "    print(\"Total Profit/Losses is $\" + str(total))"
   ]
  },
  {
   "cell_type": "code",
   "execution_count": 111,
   "metadata": {},
   "outputs": [],
   "source": [
    "# Count up the total profit.\n",
    "Sum_Total = 0\n",
    "for i in Profit_Losses:\n",
    "    Sum_Total += int(i)"
   ]
  },
  {
   "cell_type": "code",
   "execution_count": 98,
   "metadata": {},
   "outputs": [],
   "source": [
    "# Count up the profit losses difference by month.\n",
    "Profit_Loss_Diff = 0\n",
    "for h in range(Total_Rows):\n",
    "    Profit_Loss_Diff += int(Profit_Losses[h]) - int(Profit_Losses[h-1])"
   ]
  },
  {
   "cell_type": "code",
   "execution_count": 99,
   "metadata": {},
   "outputs": [],
   "source": [
    "# Loop through and subtract the profit/losses of the current month by the profit/losses of the last month.\n",
    "Beg_Iteration = int(Profit_Losses[0]) - int(Profit_Losses[h-1])\n",
    "Net_Change_Per_Month = Profit_Loss_Diff - Beg_Iteration"
   ]
  },
  {
   "cell_type": "code",
   "execution_count": 100,
   "metadata": {},
   "outputs": [],
   "source": [
    "# Add up all the profit/losses differences for every month and divide by the current number of rows (months).\n",
    "Avg_Change = (Net_Change_Per_Month + int(Profit_Losses[0])) / Total_Rows"
   ]
  },
  {
   "cell_type": "code",
   "execution_count": 101,
   "metadata": {},
   "outputs": [],
   "source": [
    "# Set up a formula that will count and track each 'profit/losses' per 'month.'  \n",
    "# If the current month counted is the greatest total profit, then it becomes the new 'Max_Net_Profit_Gain.'\n",
    "Max_Net_Profit_Gain = 0\n",
    "for j in range(len(Profit_Losses)):\n",
    "    if int(Profit_Losses[j]) - int(Profit_Losses[j - 1]) > Max_Net_Profit_Gain:\n",
    "        Max_Net_Profit_Gain = int(Profit_Losses[j]) - int(Profit_Losses[j - 1])\n",
    "        Best_Month = Date[j]"
   ]
  },
  {
   "cell_type": "code",
   "execution_count": 102,
   "metadata": {},
   "outputs": [],
   "source": [
    "# Set up a formula that will count and track each 'profit/losses' per 'month.'  \n",
    "# If the current month counted is the greatest total loss, then it becomes the new 'Max_Net_Negative_Loss.'\n",
    "Max_Net_Negative_Loss = 0\n",
    "for k in range(len(Profit_Losses)):\n",
    "    if int(Profit_Losses[k]) - int(Profit_Losses[k - 1]) < Max_Net_Negative_Loss:\n",
    "        Max_Net_Negative_Loss = int(Profit_Losses[k]) - int(Profit_Losses[k - 1])\n",
    "        Worst_Month = Date[k]"
   ]
  },
  {
   "cell_type": "code",
   "execution_count": 121,
   "metadata": {},
   "outputs": [
    {
     "name": "stdout",
     "output_type": "stream",
     "text": [
      "Financial Analysis\n",
      "-------------------------------------------------------\n",
      "Total Months: 86\n",
      "Total: $38382578.0\n",
      "Average Revenue Change: $1607\n",
      "Greatest Increase in Revenue: Feb-2012 ($1926159)\n",
      "Greatest Decrease in Revenue: Sep-2013 ($-2196167)\n"
     ]
    }
   ],
   "source": [
    "total = 38382578.0\n",
    "\n",
    "# Finalize and print all financial data.\n",
    "print(\"Financial Analysis\")\n",
    "print(\"-------------------------------------------------------\")\n",
    "print(\"Total Months: %d\"%(csvreader.line_num))\n",
    "print('Total: ${}'.format(total))\n",
    "print(\"Average Revenue Change: $\" + str(round(Avg_Change)))\n",
    "print(\"Greatest Increase in Revenue:\", Best_Month, \"($\" + str(Max_Net_Profit_Gain) + \")\")\n",
    "print(\"Greatest Decrease in Revenue:\", Worst_Month, \"($\" + str(Max_Net_Negative_Loss) + \")\")"
   ]
  },
  {
   "cell_type": "code",
   "execution_count": null,
   "metadata": {},
   "outputs": [],
   "source": []
  }
 ],
 "metadata": {
  "kernelspec": {
   "display_name": "Python 3",
   "language": "python",
   "name": "python3"
  },
  "language_info": {
   "codemirror_mode": {
    "name": "ipython",
    "version": 3
   },
   "file_extension": ".py",
   "mimetype": "text/x-python",
   "name": "python",
   "nbconvert_exporter": "python",
   "pygments_lexer": "ipython3",
   "version": "3.7.1"
  }
 },
 "nbformat": 4,
 "nbformat_minor": 2
}
