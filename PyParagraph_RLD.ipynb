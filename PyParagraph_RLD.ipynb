{
 "cells": [
  {
   "cell_type": "code",
   "execution_count": 15,
   "metadata": {},
   "outputs": [],
   "source": [
    "# Import csvfile and regular expression syntax.\n",
    "import csv\n",
    "import re"
   ]
  },
  {
   "cell_type": "code",
   "execution_count": 16,
   "metadata": {},
   "outputs": [],
   "source": [
    "# Clarify filename.\n",
    "filename = \"paragraph_1.txt\""
   ]
  },
  {
   "cell_type": "code",
   "execution_count": 17,
   "metadata": {},
   "outputs": [
    {
     "name": "stdout",
     "output_type": "stream",
     "text": [
      "Approximate Word Count: 130\n"
     ]
    }
   ],
   "source": [
    "# Set up a read only file and count the spit data based on the number of spaces.  This will get the word count.\n",
    "data = open('paragraph_1.txt', 'r').read()\n",
    "wordcount = len(data.split())\n",
    "print(\"Approximate Word Count: \" + str(wordcount))"
   ]
  },
  {
   "cell_type": "code",
   "execution_count": 18,
   "metadata": {},
   "outputs": [
    {
     "name": "stdout",
     "output_type": "stream",
     "text": [
      "Approximate Sentence Count:  5\n"
     ]
    }
   ],
   "source": [
    "# Set up another read only file and now count the number of periods.\n",
    "with open(\"paragraph_1.txt\") as f:\n",
    "    data = f.read()\n",
    "    print(\"Approximate Sentence Count: \", data.count(\".\"))"
   ]
  },
  {
   "cell_type": "code",
   "execution_count": 19,
   "metadata": {},
   "outputs": [
    {
     "name": "stdout",
     "output_type": "stream",
     "text": [
      "Average Sentence Length 26.0\n"
     ]
    }
   ],
   "source": [
    "# Average sentence length is the number of words divided by the number of sentences.\n",
    "num_words = 130\n",
    "num_sen = 5\n",
    "\n",
    "avg_sentence_length = (num_words)/(num_sen)\n",
    "print(\"Average Sentence Length \" + str(avg_sentence_length))"
   ]
  },
  {
   "cell_type": "code",
   "execution_count": 20,
   "metadata": {},
   "outputs": [
    {
     "name": "stdout",
     "output_type": "stream",
     "text": [
      "Approximate Character Count: 962\n",
      "Average Letter Count 7.4\n"
     ]
    }
   ],
   "source": [
    "# Set the lines to be an integer and base the character count on the length of each line.  \n",
    "# Average letter count is the number of characters divided by the number of words.\n",
    "lines = 0\n",
    "num_chars = 0\n",
    "avg_letter_count = 0\n",
    "\n",
    "with open(filename, \"r\") as f:\n",
    "    for line in f:\n",
    "        words = line.split()        \n",
    "        lines += 1\n",
    "        num_chars += len(line)\n",
    "        sentences = data.count\n",
    "        \n",
    "        avg_letter_count = (num_chars/num_words)\n",
    "        \n",
    "print(\"Approximate Character Count: \" + str(num_chars))\n",
    "print(\"Average Letter Count \" + str(avg_letter_count))"
   ]
  },
  {
   "cell_type": "code",
   "execution_count": 21,
   "metadata": {},
   "outputs": [
    {
     "name": "stdout",
     "output_type": "stream",
     "text": [
      "Paragraph Analysis\n",
      "--------------------------------------\n",
      "Approximate Word Count: 130\n",
      "Approximate Sentence Count: 5\n",
      "Average Letter Count: 7.4\n",
      "Average Sentence Length: 26.0\n"
     ]
    }
   ],
   "source": [
    "# Finalizes and print all results.\n",
    "print(\"Paragraph Analysis\")\n",
    "print(\"--------------------------------------\")\n",
    "print(\"Approximate Word Count: \" + str(num_words))\n",
    "print(\"Approximate Sentence Count: \" + str(num_sen))\n",
    "print(\"Average Letter Count: \" + str(avg_letter_count))\n",
    "print(\"Average Sentence Length: \" + str(avg_sentence_length))"
   ]
  }
 ],
 "metadata": {
  "kernelspec": {
   "display_name": "Python 3",
   "language": "python",
   "name": "python3"
  },
  "language_info": {
   "codemirror_mode": {
    "name": "ipython",
    "version": 3
   },
   "file_extension": ".py",
   "mimetype": "text/x-python",
   "name": "python",
   "nbconvert_exporter": "python",
   "pygments_lexer": "ipython3",
   "version": "3.7.1"
  }
 },
 "nbformat": 4,
 "nbformat_minor": 2
}
