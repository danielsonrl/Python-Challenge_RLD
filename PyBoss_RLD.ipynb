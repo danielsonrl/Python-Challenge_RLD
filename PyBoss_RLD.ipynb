{
 "cells": [
  {
   "cell_type": "code",
   "execution_count": 91,
   "metadata": {},
   "outputs": [],
   "source": [
    "# Import csvfile and set up to parse strings into datetime format.\n",
    "import csv\n",
    "from datetime import datetime"
   ]
  },
  {
   "cell_type": "code",
   "execution_count": 92,
   "metadata": {},
   "outputs": [],
   "source": [
    "csv_path = \"employee_data1.csv\""
   ]
  },
  {
   "cell_type": "code",
   "execution_count": 93,
   "metadata": {},
   "outputs": [
    {
     "data": {
      "text/plain": [
       "'employee_data1.csv'"
      ]
     },
     "execution_count": 93,
     "metadata": {},
     "output_type": "execute_result"
    }
   ],
   "source": [
    "# Confirm csvfile\n",
    "csv_path"
   ]
  },
  {
   "cell_type": "code",
   "execution_count": 94,
   "metadata": {},
   "outputs": [],
   "source": [
    "# Using the state abbreviation list\n",
    "# Source: https://gist.github.com/afhaque/29f0f4f37463c447770517a6c17d08f5\n",
    "\n",
    "US_State_Abbrev = {\n",
    "    'Alabama': 'AL',\n",
    "    'Alaska': 'AK',\n",
    "    'Arizona': 'AZ',\n",
    "    'Arkansas': 'AR',\n",
    "    'California': 'CA',\n",
    "    'Colorado': 'CO',\n",
    "    'Connecticut': 'CT',\n",
    "    'Delaware': 'DE',\n",
    "    'Florida': 'FL',\n",
    "    'Georgia': 'GA',\n",
    "    'Hawaii': 'HI',\n",
    "    'Idaho': 'ID',\n",
    "    'Illinois': 'IL',\n",
    "    'Indiana': 'IN',\n",
    "    'Iowa': 'IA',\n",
    "    'Kansas': 'KS',\n",
    "    'Kentucky': 'KY',\n",
    "    'Louisiana': 'LA',\n",
    "    'Maine': 'ME',\n",
    "    'Maryland': 'MD',\n",
    "    'Massachusetts': 'MA',\n",
    "    'Michigan': 'MI',\n",
    "    'Minnesota': 'MN',\n",
    "    'Mississippi': 'MS',\n",
    "    'Missouri': 'MO',\n",
    "    'Montana': 'MT',\n",
    "    'Nebraska': 'NE',\n",
    "    'Nevada': 'NV',\n",
    "    'New Hampshire': 'NH',\n",
    "    'New Jersey': 'NJ',\n",
    "    'New Mexico': 'NM',\n",
    "    'New York': 'NY',\n",
    "    'North Carolina': 'NC',\n",
    "    'North Dakota': 'ND',\n",
    "    'Ohio': 'OH',\n",
    "    'Oklahoma': 'OK',\n",
    "    'Oregon': 'OR',\n",
    "    'Pennsylvania': 'PA',\n",
    "    'Rhode Island': 'RI',\n",
    "    'South Carolina': 'SC',\n",
    "    'South Dakota': 'SD',\n",
    "    'Tennessee': 'TN',\n",
    "    'Texas': 'TX',\n",
    "    'Utah': 'UT',\n",
    "    'Vermont': 'VT',\n",
    "    'Virginia': 'VA',\n",
    "    'Washington': 'WA',\n",
    "    'West Virginia': 'WV',\n",
    "    'Wisconsin': 'WI',\n",
    "    'Wyoming': 'WY',\n",
    "}\n"
   ]
  },
  {
   "cell_type": "code",
   "execution_count": 95,
   "metadata": {},
   "outputs": [],
   "source": [
    "# Create the variables into lists\n",
    "Emp_Id = []\n",
    "Full_Name = []\n",
    "First_Name = []\n",
    "Last_Name = []\n",
    "DOB = []\n",
    "New_DOB = []\n",
    "SSN = []\n",
    "New_SSN = []\n",
    "State_Name = []\n",
    "State_Letter = []"
   ]
  },
  {
   "cell_type": "code",
   "execution_count": 96,
   "metadata": {},
   "outputs": [],
   "source": [
    "for i in range(10):\n",
    "    Emp_Id, Full_Name, First_Name, Last_Name, DOB, New_DOB, SSN, New_SSN, State_Name, State_Letter"
   ]
  },
  {
   "cell_type": "code",
   "execution_count": 97,
   "metadata": {},
   "outputs": [],
   "source": [
    "# Create a read only file.\n",
    "with open(csv_path, mode='r', newline='') as f:\n",
    "    reader = csv.reader(f)\n",
    "    next(f)\n",
    "    for row in reader:\n",
    "        Emp_Id.append(row[0])\n",
    "        Full_Name.append(row[1])\n",
    "        DOB.append(row[2])\n",
    "        SSN.append(row[3])\n",
    "        State_Name.append(row[4])"
   ]
  },
  {
   "cell_type": "code",
   "execution_count": 98,
   "metadata": {},
   "outputs": [],
   "source": [
    "# Parse list into first and last name.\n",
    "for i in range(len(Full_Name)):\n",
    "    New_Name = Full_Name[i].split(\" \")\n",
    "    First_Name.append(New_Name[0])\n",
    "    Last_Name.append(New_Name[1])\n",
    "    \n",
    "    # Convert strings into dates.\n",
    "    Datetimes = datetime.strptime(DOB[i], \"%Y-%m-%d\").strftime(\"%m/%d/%Y\")\n",
    "    \n",
    "    # Continue to append other categories.\n",
    "    New_DOB.append(Datetimes)\n",
    "    Anonymous_SSN = \"***-**-\" + SSN[i][-4:]\n",
    "    New_SSN.append(Anonymous_SSN)\n",
    "    Initials = US_State_Abbrev[State_Name[i]]\n",
    "    State_Letter.append(Initials)"
   ]
  },
  {
   "cell_type": "code",
   "execution_count": 99,
   "metadata": {},
   "outputs": [],
   "source": [
    "# Create the new header and columns.\n",
    "Header = [(\"Emp ID\", \"First Name\", \"Last Name\", \"DOB\", \"SSN\", \"State\")]\n",
    "Columns = zip(Emp_Id, First_Name, Last_Name, New_DOB, New_SSN, State_Letter)"
   ]
  },
  {
   "cell_type": "code",
   "execution_count": 100,
   "metadata": {},
   "outputs": [],
   "source": [
    "# Finally write and title the new file.\n",
    "with open(\"employee_data2.csv\", mode='w', newline='') as csvfile:\n",
    "    writer = csv.writer(csvfile)\n",
    "    writer.writerows(Header)\n",
    "    writer.writerows(Columns)"
   ]
  }
 ],
 "metadata": {
  "kernelspec": {
   "display_name": "Python 3",
   "language": "python",
   "name": "python3"
  },
  "language_info": {
   "codemirror_mode": {
    "name": "ipython",
    "version": 3
   },
   "file_extension": ".py",
   "mimetype": "text/x-python",
   "name": "python",
   "nbconvert_exporter": "python",
   "pygments_lexer": "ipython3",
   "version": "3.7.1"
  }
 },
 "nbformat": 4,
 "nbformat_minor": 2
}
